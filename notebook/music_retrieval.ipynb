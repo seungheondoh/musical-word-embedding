{
 "cells": [
  {
   "cell_type": "markdown",
   "id": "e34cfb2b-b46d-4546-be3b-38b10b70a17e",
   "metadata": {},
   "source": [
    "# Retrieval (Tag-to-Music Similarity)"
   ]
  },
  {
   "cell_type": "code",
   "execution_count": 17,
   "id": "16b14b03-7010-4430-b8c9-906c9bdab2ce",
   "metadata": {},
   "outputs": [],
   "source": [
    "import os\n",
    "import torch\n",
    "import pandas as pd\n",
    "import pandas as pd\n",
    "from IPython.display import display, HTML\n",
    "from datasets import load_dataset"
   ]
  },
  {
   "cell_type": "code",
   "execution_count": 2,
   "id": "3eaf7699-30ee-4bc9-9b95-40589efc46f7",
   "metadata": {},
   "outputs": [],
   "source": [
    "mwe_dataset = load_dataset(\"seungheondoh/musical-word-embedding\")\n",
    "msd_dataset = load_dataset(\"seungheondoh/multimodal_msd\",split=\"train\")"
   ]
  },
  {
   "cell_type": "code",
   "execution_count": 15,
   "id": "44df5a7b-8436-4a5c-aba2-b2ed2abe58e0",
   "metadata": {},
   "outputs": [],
   "source": [
    "id2url = {i[\"msd_track_id\"]:i[\"youtube_url\"] for i in msd_dataset}"
   ]
  },
  {
   "cell_type": "code",
   "execution_count": 16,
   "id": "36e99cae-dfcb-42d3-ad48-eb5fd5b60ab9",
   "metadata": {},
   "outputs": [],
   "source": [
    "track_ids = [i[\"token\"] for i in mwe_dataset['track']]"
   ]
  },
  {
   "cell_type": "code",
   "execution_count": 4,
   "id": "80787857-c21a-4ce2-a28a-b98825451aa4",
   "metadata": {},
   "outputs": [],
   "source": [
    "track_list = [i[\"content\"] for i in mwe_dataset['track']]\n",
    "track_vector = torch.tensor([i[\"vector\"] for i in mwe_dataset['track']])\n",
    "track2vector = {token:embs for token, embs in zip(track_list, track_vector)}"
   ]
  },
  {
   "cell_type": "code",
   "execution_count": 5,
   "id": "641f52e3-6589-4fb9-aeb2-c3f149db712e",
   "metadata": {},
   "outputs": [],
   "source": [
    "track_vector = torch.nn.functional.normalize(track_vector)"
   ]
  },
  {
   "cell_type": "code",
   "execution_count": 32,
   "id": "12974f6b-17d0-4bd7-b3e8-5c4fd78e196c",
   "metadata": {},
   "outputs": [],
   "source": [
    "def music_retrieval(user_query, topk=10):\n",
    "    token_list = [i.strip() for i in user_query.split()]\n",
    "    query_vector = torch.stack([tag2vector[i] for i in token_list])\n",
    "    query_vector = torch.nn.functional.normalize(query_vector)\n",
    "    if query_vector.size(0) > 1:\n",
    "        query_vector = query_vector.mean(0, True)\n",
    "    score_matrix = query_vector @ track_vector.T\n",
    "    sorted_indices = torch.flip(torch.argsort(score_matrix, dim=1), dims=[1])\n",
    "    \n",
    "    score_matrix = score_matrix.squeeze(0)\n",
    "    sorted_indices = sorted_indices.squeeze(0)\n",
    "    \n",
    "    top5_indices = sorted_indices[:topk]\n",
    "    results = []\n",
    "    for i in top5_indices:\n",
    "        tid = track_ids[i]\n",
    "        if tid in id2url:\n",
    "            vid = id2url[tid]\n",
    "            vid = vid[-11:]\n",
    "            results.append({\n",
    "                \"youtube\": f'<iframe width=\"360\" height=\"115\" src=\"https://www.youtube.com/embed/{vid}\" frameborder=\"0\" allowfullscreen></iframe>',\n",
    "                \"entity\": track_list[i],\n",
    "                \"score\": float(score_matrix[i]),\n",
    "            })\n",
    "    df = pd.DataFrame(results)\n",
    "    display(HTML(df.to_html(escape=False)))"
   ]
  },
  {
   "cell_type": "code",
   "execution_count": 83,
   "id": "3865f375-8853-4311-86f7-45c8cea2382f",
   "metadata": {},
   "outputs": [
    {
     "data": {
      "text/html": [
       "<table border=\"1\" class=\"dataframe\">\n",
       "  <thead>\n",
       "    <tr style=\"text-align: right;\">\n",
       "      <th></th>\n",
       "      <th>youtube</th>\n",
       "      <th>entity</th>\n",
       "      <th>score</th>\n",
       "    </tr>\n",
       "  </thead>\n",
       "  <tbody>\n",
       "    <tr>\n",
       "      <th>0</th>\n",
       "      <td><iframe width=\"360\" height=\"115\" src=\"https://www.youtube.com/embed/9GuGVu-fIcY\" frameborder=\"0\" allowfullscreen></iframe></td>\n",
       "      <td>Piano Trio No. 7 In B Flat Major_ Op. 97_ \"Archduke\": I. Allegro moderato by Pablo Casals from Beethoven: Piano Trios_ Op. 70/2 & 97 / Schumann: Piano Trios_ Op. 80 & 110</td>\n",
       "      <td>0.726394</td>\n",
       "    </tr>\n",
       "    <tr>\n",
       "      <th>1</th>\n",
       "      <td><iframe width=\"360\" height=\"115\" src=\"https://www.youtube.com/embed/Bw_oBhR2tHc\" frameborder=\"0\" allowfullscreen></iframe></td>\n",
       "      <td>Fantaisie-Impromptu_ Op. 66 by Frederic Chopin from Classical Favorites</td>\n",
       "      <td>0.723254</td>\n",
       "    </tr>\n",
       "    <tr>\n",
       "      <th>2</th>\n",
       "      <td><iframe width=\"360\" height=\"115\" src=\"https://www.youtube.com/embed/zuzUBULpDVU\" frameborder=\"0\" allowfullscreen></iframe></td>\n",
       "      <td>Mazurka in A Minor_ Op. 67-V by Byron Janis from Absolutely Classical_ Volume 162</td>\n",
       "      <td>0.716819</td>\n",
       "    </tr>\n",
       "    <tr>\n",
       "      <th>3</th>\n",
       "      <td><iframe width=\"360\" height=\"115\" src=\"https://www.youtube.com/embed/VBhavcNGM_0\" frameborder=\"0\" allowfullscreen></iframe></td>\n",
       "      <td>Mazurka Op. 68 No. 3 in C Sharp Minor by Sergey Rachmaninov from The Chopin Recordings</td>\n",
       "      <td>0.715834</td>\n",
       "    </tr>\n",
       "    <tr>\n",
       "      <th>4</th>\n",
       "      <td><iframe width=\"360\" height=\"115\" src=\"https://www.youtube.com/embed/al6mjqckBPY\" frameborder=\"0\" allowfullscreen></iframe></td>\n",
       "      <td>Waltz No. 14 Op. Posth. in E Minor by Sergey Rachmaninov from The Chopin Recordings</td>\n",
       "      <td>0.714101</td>\n",
       "    </tr>\n",
       "  </tbody>\n",
       "</table>"
      ],
      "text/plain": [
       "<IPython.core.display.HTML object>"
      ]
     },
     "metadata": {},
     "output_type": "display_data"
    }
   ],
   "source": [
    "music_retrieval(\"piano classical\", topk=5)"
   ]
  },
  {
   "cell_type": "code",
   "execution_count": null,
   "id": "0f95715e-d505-497d-9ec2-26a53066e0f0",
   "metadata": {},
   "outputs": [],
   "source": []
  }
 ],
 "metadata": {
  "kernelspec": {
   "display_name": "Python 3 (ipykernel)",
   "language": "python",
   "name": "python3"
  },
  "language_info": {
   "codemirror_mode": {
    "name": "ipython",
    "version": 3
   },
   "file_extension": ".py",
   "mimetype": "text/x-python",
   "name": "python",
   "nbconvert_exporter": "python",
   "pygments_lexer": "ipython3",
   "version": "3.11.5"
  }
 },
 "nbformat": 4,
 "nbformat_minor": 5
}
